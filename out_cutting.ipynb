{
 "cells": [
  {
   "cell_type": "code",
   "execution_count": null,
   "metadata": {},
   "outputs": [],
   "source": [
    "import numpy as np\n",
    "from astropy.wcs import WCS\n",
    "from astropy import units as u\n",
    "import scarlet\n",
    "import sep \n",
    "\n",
    "import pylab as plt\n",
    "import astropy.io.fits as fits\n",
    "from astropy.coordinates import SkyCoord\n",
    "import os, re\n",
    "\n",
    "from astropy.nddata import Cutout2D\n"
   ]
  },
  {
   "cell_type": "code",
   "execution_count": null,
   "metadata": {},
   "outputs": [],
   "source": [
    "#load data\n",
    "files = ['lbt_r.fits', 'lbt_g.fits']"
   ]
  },
  {
   "cell_type": "code",
   "execution_count": null,
   "metadata": {},
   "outputs": [],
   "source": [
    "def mk_cutout(filename, xy_pos=None, radec_pos=None, size=[100,100], ind=0, path = ''):\n",
    "    '''Make a (`size`)-large cutout from a file (`filename`) at position (`pos`).\n",
    "    '''\n",
    "    \n",
    "    hdus = fits.open(path+filename)\n",
    "    hdr = hdus[ind].header#[:10]\n",
    "    #hdr['CTYPE1'] = \"RA--DEC\"\n",
    "    #hdr['CTYPE2'] = \"RA--DEC\"\n",
    "    #hdr['MJD-OBS'] = 0.\n",
    "    wcs = WCS(hdr)\n",
    "    \n",
    "    img = hdus[ind].data\n",
    "\n",
    "    ny, nx = img.shape\n",
    "    \n",
    "    if radec_pos: \n",
    "        xy_pos = wcs.all_world2pix(radec_pos.ra, radec_pos.dec, 0)\n",
    "    print(xy_pos, radec)\n",
    "    \n",
    "    cut = Cutout2D(img, xy_pos, (size[0], size[1]) , wcs = wcs)  \n",
    "    return cut"
   ]
  },
  {
   "cell_type": "code",
   "execution_count": null,
   "metadata": {
    "scrolled": false
   },
   "outputs": [],
   "source": [
    "sizes = [(600,600),(500,500),(350,350),(450,450),(350,350)]\n",
    "names = ['SDSSJ0240',\n",
    "         'NGC1052-DF1',\n",
    "         'T20-12000',\n",
    "         'LSB21 ',\n",
    "         'LBT1']\n",
    "\n",
    "positions = [SkyCoord('02:40:07.0', '-08:13:44.4', unit=(u.hourangle, u.deg)), \n",
    "         SkyCoord('02:40:04.6', '-08:26:48.3',unit=(u.hourangle, u.deg)), \n",
    "         SkyCoord('02:39:39.3', '-08:13:42.3',unit=(u.hourangle, u.deg)), \n",
    "         SkyCoord('02:40:28.8', '-08:14:36.5',unit=(u.hourangle, u.deg)),\n",
    "         SkyCoord('02:40:40.6', '-08:23:08.9',unit=(u.hourangle, u.deg))]\n",
    "\n",
    "cubes = []\n",
    "for radec, s, n in zip(positions, sizes, names): \n",
    "    cube = []\n",
    "    for f in files:\n",
    "        cut = mk_cutout(f, radec_pos=radec, size=s, ind=1, path='Data/LBT/')\n",
    "        cube.append(cut.data)\n",
    "        plt.imshow(np.array(cut.data))\n",
    "        plt.show()\n",
    "        \n",
    "    hdu = fits.PrimaryHDU(np.array(cube), cut.wcs.to_header())\n",
    "    hdul = fits.HDUList([hdu])\n",
    "    hdul.writeto(f'Data/LBT/Cutouts/cut_{n}.fits', overwrite=True)\n",
    "        \n",
    "        \n",
    "    "
   ]
  },
  {
   "cell_type": "code",
   "execution_count": null,
   "metadata": {},
   "outputs": [],
   "source": []
  },
  {
   "cell_type": "code",
   "execution_count": null,
   "metadata": {},
   "outputs": [],
   "source": []
  }
 ],
 "metadata": {
  "kernelspec": {
   "display_name": "nlp",
   "language": "python",
   "name": "nlp"
  },
  "language_info": {
   "codemirror_mode": {
    "name": "ipython",
    "version": 3
   },
   "file_extension": ".py",
   "mimetype": "text/x-python",
   "name": "python",
   "nbconvert_exporter": "python",
   "pygments_lexer": "ipython3",
   "version": "3.8.5"
  }
 },
 "nbformat": 4,
 "nbformat_minor": 4
}
